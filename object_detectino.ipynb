{
 "cells": [
  {
   "cell_type": "code",
   "execution_count": 8,
   "metadata": {},
   "outputs": [
    {
     "name": "stdout",
     "output_type": "stream",
     "text": [
      "Object detection completed and results saved.\n"
     ]
    }
   ],
   "source": [
    "from transformers import DetrImageProcessor, DetrForObjectDetection\n",
    "from PIL import Image\n",
    "import torch\n",
    "import os\n",
    "\n",
    "# Initialize the model and processor\n",
    "processor = DetrImageProcessor.from_pretrained(\"facebook/detr-resnet-101\", revision=\"no_timm\")\n",
    "model = DetrForObjectDetection.from_pretrained(\"facebook/detr-resnet-101\", revision=\"no_timm\")\n",
    "\n",
    "image_folder = r\"E:\\VS_Code\\ZHAW\\ML2\\Image_class_test\\relevant_images\"\n",
    "output_file_path = r\"E:\\VS_Code\\ZHAW\\ML2\\Image_class_test\\results_detection.txt\"\n",
    "\n",
    "# Specify the objects you want to detect\n",
    "desired_objects = [\"sign\", \"licenseplate\", \"car\", \"streetsign\"]\n",
    "\n",
    "# Open the output file in write mode\n",
    "with open(output_file_path, 'w') as file:\n",
    "    # Loop through each image in the folder\n",
    "    for image_file in os.listdir(image_folder):\n",
    "        image_path = os.path.join(image_folder, image_file)\n",
    "        \n",
    "        if image_path.lower().endswith(('.png', '.jpg', '.jpeg')):  # Check if it's an image file\n",
    "            image = Image.open(image_path)\n",
    "            inputs = processor(images=image, return_tensors=\"pt\")\n",
    "            outputs = model(**inputs)\n",
    "\n",
    "            # Process detections\n",
    "            target_sizes = torch.tensor([image.size[::-1]])\n",
    "            results = processor.post_process_object_detection(outputs, target_sizes=target_sizes, threshold=0.9)[0]\n",
    "\n",
    "            detections = []\n",
    "            for score, label, box in zip(results[\"scores\"], results[\"labels\"], results[\"boxes\"]):\n",
    "                #if model.config.id2label[label.item()] in desired_objects:\n",
    "                    box = [round(i, 2) for i in box.tolist()]\n",
    "                    detection = (\n",
    "                        f\"Detected {model.config.id2label[label.item()]} with confidence \"\n",
    "                        f\"{round(score.item(), 3)} at location {box}\"\n",
    "                    )\n",
    "                    detections.append(detection)\n",
    "\n",
    "            # Write the results for this image to the file, if any detections are found\n",
    "            if detections:\n",
    "                file.write(f\"{image_file} :\\n\")\n",
    "                for detection in detections:\n",
    "                    file.write(f\"  {detection}\\n\")\n",
    "                file.write(\"\\n\")  # Add a new line for readability\n",
    "\n",
    "print(\"Object detection completed and results saved.\")\n"
   ]
  }
 ],
 "metadata": {
  "kernelspec": {
   "display_name": ".venv",
   "language": "python",
   "name": "python3"
  },
  "language_info": {
   "codemirror_mode": {
    "name": "ipython",
    "version": 3
   },
   "file_extension": ".py",
   "mimetype": "text/x-python",
   "name": "python",
   "nbconvert_exporter": "python",
   "pygments_lexer": "ipython3",
   "version": "3.12.1"
  }
 },
 "nbformat": 4,
 "nbformat_minor": 2
}
